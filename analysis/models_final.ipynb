{
 "cells": [
  {
   "cell_type": "markdown",
   "metadata": {},
   "source": [
    "# Notebook for creation of models"
   ]
  },
  {
   "cell_type": "code",
   "execution_count": 1,
   "metadata": {},
   "outputs": [],
   "source": [
    "import pickle\n",
    "import os\n",
    "import pandas as pd\n",
    "os.chdir('/home/carlotaalv/Escritorio/TFM/tfm/')\n",
    "import models as mod\n",
    "import numpy as np\n",
    "import pandas as pd\n",
    "from joblib import Parallel, delayed\n",
    "import re\n",
    "from tsfresh.feature_extraction import extract_features, EfficientFCParameters,MinimalFCParameters\n"
   ]
  },
  {
   "cell_type": "code",
   "execution_count": 2,
   "metadata": {},
   "outputs": [],
   "source": [
    "os.chdir('data_models')"
   ]
  },
  {
   "cell_type": "markdown",
   "metadata": {},
   "source": [
    "### Carga de dataframes finales"
   ]
  },
  {
   "cell_type": "code",
   "execution_count": 3,
   "metadata": {},
   "outputs": [],
   "source": [
    "X_data_all=pd.read_csv('all_data_unproc_index.csv')\n",
    "Y_data_all=pd.read_csv('Y_values_unproc_index.csv')\n",
    "Y_data_barnase_alphalactalbumin=pd.read_csv('data_Y_barnase_alphalact.csv')\n",
    "X_data_barnase_alphalactalbumin=pd.read_csv('data_X_barnase_alphalact.csv')\n"
   ]
  },
  {
   "cell_type": "code",
   "execution_count": 4,
   "metadata": {},
   "outputs": [],
   "source": [
    "X_data_all_complete= pd.concat([X_data_all, X_data_barnase_alphalactalbumin], axis=0, ignore_index=True)\n",
    "Y_data_all_complete=pd.concat([Y_data_all, Y_data_barnase_alphalactalbumin], axis=0, ignore_index=True)"
   ]
  },
  {
   "cell_type": "code",
   "execution_count": 5,
   "metadata": {},
   "outputs": [],
   "source": [
    "X_data_all_complete.to_csv('all_data_unproc_index_complete.csv',index=False)\n",
    "Y_data_all_complete.to_csv('Y_values_unproc_index_complete.csv',index=False)\n"
   ]
  },
  {
   "cell_type": "code",
   "execution_count": 6,
   "metadata": {},
   "outputs": [],
   "source": [
    "X_halm2=X_data_all_complete[X_data_all_complete['prot']=='halm2_AF_apo']\n",
    "Y_halm2=Y_data_all_complete[Y_data_all_complete['prot']=='halm2_AF_apo']\n",
    "X_data = X_data_all_complete[X_data_all_complete['prot'] != 'halm2_AF_apo']\n",
    "Y_data = Y_data_all_complete[Y_data_all_complete['prot'] != 'halm2_AF_apo']"
   ]
  },
  {
   "cell_type": "code",
   "execution_count": 7,
   "metadata": {},
   "outputs": [],
   "source": [
    "X_halm2.to_csv('X_halm2_data.csv',index=False)\n",
    "Y_halm2.to_csv('Y_halm2_data.csv',index=False)\n",
    "X_data.to_csv('X_training_data_complete.csv',index=False)\n",
    "Y_data.to_csv('Y_training_data_complete.csv',index=False)"
   ]
  },
  {
   "cell_type": "code",
   "execution_count": 8,
   "metadata": {},
   "outputs": [],
   "source": [
    "X_halm2 = pd.read_csv('X_halm2_data.csv')\n",
    "Y_halm2 = pd.read_csv('Y_halm2_data.csv')\n",
    "X_data = pd.read_csv('X_training_data_complete.csv')\n",
    "Y_data = pd.read_csv('Y_training_data_complete.csv')"
   ]
  },
  {
   "cell_type": "markdown",
   "metadata": {},
   "source": [
    "### Features extraction with tsfresh"
   ]
  },
  {
   "cell_type": "code",
   "execution_count": 9,
   "metadata": {},
   "outputs": [
    {
     "name": "stderr",
     "output_type": "stream",
     "text": [
      "Feature Extraction: 100%|██████████| 40/40 [00:01<00:00, 23.03it/s]\n"
     ]
    }
   ],
   "source": [
    "X_halm2_features,Y_halm2_features,Y_halm2_id=mod.x_y_extraction_models(X_halm2,Y_halm2,water=True)"
   ]
  },
  {
   "cell_type": "code",
   "execution_count": 10,
   "metadata": {},
   "outputs": [],
   "source": [
    "X_halm2_features.to_csv('halm2_X_vals.csv',index=False)\n",
    "Y_halm2_features.to_csv('halm2_Y_vals.csv',index=False)\n",
    "Y_halm2_id.to_csv('halm2_Y_ID_vals.csv',index=False)"
   ]
  },
  {
   "cell_type": "code",
   "execution_count": 11,
   "metadata": {},
   "outputs": [
    {
     "name": "stderr",
     "output_type": "stream",
     "text": [
      "Feature Extraction: 100%|██████████| 40/40 [00:07<00:00,  5.23it/s]\n"
     ]
    }
   ],
   "source": [
    "X_training,Y_training,Y_training_id=mod.x_y_extraction_models(X_data,Y_data,water=True)"
   ]
  },
  {
   "cell_type": "code",
   "execution_count": 15,
   "metadata": {},
   "outputs": [],
   "source": [
    "X_training.to_csv('training_X_vals.csv',index=False)\n",
    "Y_training.to_csv('training_Y_vals.csv',index=False)\n",
    "Y_training_id.to_csv('training_Y_ID_vals.csv',index=False)"
   ]
  },
  {
   "cell_type": "markdown",
   "metadata": {},
   "source": [
    "### Model training"
   ]
  },
  {
   "cell_type": "code",
   "execution_count": 16,
   "metadata": {},
   "outputs": [],
   "source": [
    "model_list=[\n",
    "    ['knn','No','knn'],\n",
    "    ['knn','ANOVA','knn_anova'],\n",
    "    ['DecisionTree','No','DecisionTree'],\n",
    "    ['GradientBoosting','No','GradientBoosting'],\n",
    "    ['RandomForest','No','RandomForest']\n",
    "]\n",
    "models_results=mod.models(X_training,Y_training,models_list=model_list,prot='basic_params_WATER_complete')"
   ]
  },
  {
   "cell_type": "code",
   "execution_count": 21,
   "metadata": {},
   "outputs": [],
   "source": [
    "with open('models_final_complete.pkl','wb') as file:\n",
    "    pickle.dump(models_results,file)"
   ]
  },
  {
   "cell_type": "code",
   "execution_count": 22,
   "metadata": {},
   "outputs": [],
   "source": [
    "columns=['Modelo','Error medio','Desviación estándar']\n",
    "# Create an empty DataFrame with these columns\n",
    "data_models = pd.DataFrame(columns=columns)"
   ]
  },
  {
   "cell_type": "code",
   "execution_count": 23,
   "metadata": {},
   "outputs": [
    {
     "name": "stderr",
     "output_type": "stream",
     "text": [
      "/tmp/ipykernel_464301/2484967122.py:24: FutureWarning: The behavior of DataFrame concatenation with empty or all-NA entries is deprecated. In a future version, this will no longer exclude empty or all-NA columns when determining the result dtypes. To retain the old behavior, exclude the relevant entries before the concat operation.\n",
      "  data_models = pd.concat([data_models, new_row], ignore_index=True)\n"
     ]
    }
   ],
   "source": [
    "# Evaluate Dummy Model\n",
    "avg_dummy_error, sd_dummy_error, regressor_dummy = mod.evaluate_dummy_regressor(X_training, Y_training, n_repeats=10, strat='mean')\n",
    "\n",
    "null_models=mod.models_null(Y_training_id)\n",
    "# Prepare data models\n",
    "models_info = [\n",
    "    ('Dummy', avg_dummy_error, sd_dummy_error),\n",
    "    ('Molecular weight', null_models[0][3], null_models[0][4]),\n",
    "    ('Hydrophobicity', null_models[1][3], null_models[1][4]),\n",
    "    ('Knn', models_results[0][4], models_results[0][5]),\n",
    "    ('Knn con anova', models_results[1][4], models_results[1][5]),\n",
    "    ('Decision Tree', models_results[2][4], models_results[2][5]),\n",
    "    ('Gradient Boosting', models_results[3][4], models_results[3][5]),\n",
    "    ('RandomForest', models_results[4][4], models_results[4][5])\n",
    "]\n",
    "\n",
    "# Add models to data_models\n",
    "for model_name, error_mean, error_sd in models_info:\n",
    "    new_row = pd.DataFrame([{\n",
    "        'Modelo': model_name,\n",
    "        'Error medio': round(error_mean, 3),\n",
    "        'Desviación estándar': round(error_sd, 3)\n",
    "    }])\n",
    "    data_models = pd.concat([data_models, new_row], ignore_index=True)\n",
    "\n",
    "data_models = pd.concat([data_models, new_row], ignore_index=True)\n",
    "data_models.to_csv('results_models_complete.csv',index=False)\n"
   ]
  },
  {
   "cell_type": "code",
   "execution_count": 24,
   "metadata": {},
   "outputs": [
    {
     "data": {
      "text/html": [
       "<div>\n",
       "<style scoped>\n",
       "    .dataframe tbody tr th:only-of-type {\n",
       "        vertical-align: middle;\n",
       "    }\n",
       "\n",
       "    .dataframe tbody tr th {\n",
       "        vertical-align: top;\n",
       "    }\n",
       "\n",
       "    .dataframe thead th {\n",
       "        text-align: right;\n",
       "    }\n",
       "</style>\n",
       "<table border=\"1\" class=\"dataframe\">\n",
       "  <thead>\n",
       "    <tr style=\"text-align: right;\">\n",
       "      <th></th>\n",
       "      <th>Modelo</th>\n",
       "      <th>Error medio</th>\n",
       "      <th>Desviación estándar</th>\n",
       "    </tr>\n",
       "  </thead>\n",
       "  <tbody>\n",
       "    <tr>\n",
       "      <th>0</th>\n",
       "      <td>Dummy</td>\n",
       "      <td>4.440</td>\n",
       "      <td>0.202</td>\n",
       "    </tr>\n",
       "    <tr>\n",
       "      <th>1</th>\n",
       "      <td>Molecular weight</td>\n",
       "      <td>4.669</td>\n",
       "      <td>0.252</td>\n",
       "    </tr>\n",
       "    <tr>\n",
       "      <th>2</th>\n",
       "      <td>Hydrophobicity</td>\n",
       "      <td>4.658</td>\n",
       "      <td>0.246</td>\n",
       "    </tr>\n",
       "    <tr>\n",
       "      <th>3</th>\n",
       "      <td>Knn</td>\n",
       "      <td>1.857</td>\n",
       "      <td>0.136</td>\n",
       "    </tr>\n",
       "    <tr>\n",
       "      <th>4</th>\n",
       "      <td>Knn con anova</td>\n",
       "      <td>2.102</td>\n",
       "      <td>0.185</td>\n",
       "    </tr>\n",
       "    <tr>\n",
       "      <th>5</th>\n",
       "      <td>Decision Tree</td>\n",
       "      <td>2.031</td>\n",
       "      <td>0.184</td>\n",
       "    </tr>\n",
       "    <tr>\n",
       "      <th>6</th>\n",
       "      <td>Gradient Boosting</td>\n",
       "      <td>1.270</td>\n",
       "      <td>0.104</td>\n",
       "    </tr>\n",
       "    <tr>\n",
       "      <th>7</th>\n",
       "      <td>RandomForest</td>\n",
       "      <td>1.059</td>\n",
       "      <td>0.103</td>\n",
       "    </tr>\n",
       "    <tr>\n",
       "      <th>8</th>\n",
       "      <td>RandomForest</td>\n",
       "      <td>1.059</td>\n",
       "      <td>0.103</td>\n",
       "    </tr>\n",
       "  </tbody>\n",
       "</table>\n",
       "</div>"
      ],
      "text/plain": [
       "              Modelo  Error medio  Desviación estándar\n",
       "0              Dummy        4.440                0.202\n",
       "1   Molecular weight        4.669                0.252\n",
       "2     Hydrophobicity        4.658                0.246\n",
       "3                Knn        1.857                0.136\n",
       "4      Knn con anova        2.102                0.185\n",
       "5      Decision Tree        2.031                0.184\n",
       "6  Gradient Boosting        1.270                0.104\n",
       "7       RandomForest        1.059                0.103\n",
       "8       RandomForest        1.059                0.103"
      ]
     },
     "execution_count": 24,
     "metadata": {},
     "output_type": "execute_result"
    }
   ],
   "source": [
    "data_models"
   ]
  },
  {
   "cell_type": "code",
   "execution_count": 20,
   "metadata": {},
   "outputs": [
    {
     "data": {
      "text/plain": [
       "'/home/carlotaalv/Escritorio/TFM/tfm/data_models'"
      ]
     },
     "execution_count": 20,
     "metadata": {},
     "output_type": "execute_result"
    }
   ],
   "source": [
    "os.getcwd()"
   ]
  }
 ],
 "metadata": {
  "kernelspec": {
   "display_name": "tfm",
   "language": "python",
   "name": "python3"
  },
  "language_info": {
   "codemirror_mode": {
    "name": "ipython",
    "version": 3
   },
   "file_extension": ".py",
   "mimetype": "text/x-python",
   "name": "python",
   "nbconvert_exporter": "python",
   "pygments_lexer": "ipython3",
   "version": "3.9.21"
  }
 },
 "nbformat": 4,
 "nbformat_minor": 2
}
